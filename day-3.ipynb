{
 "cells": [
  {
   "cell_type": "code",
   "execution_count": null,
   "id": "21d5bd3e",
   "metadata": {},
   "outputs": [],
   "source": [
    "int(\"4.0\")  # invalid\n",
    "float(\"2\")\n",
    "bool(\"\")"
   ]
  },
  {
   "cell_type": "code",
   "execution_count": 4,
   "id": "4f708d42",
   "metadata": {},
   "outputs": [
    {
     "data": {
      "text/plain": [
       "4.5"
      ]
     },
     "execution_count": 4,
     "metadata": {},
     "output_type": "execute_result"
    }
   ],
   "source": [
    "9 / 2"
   ]
  },
  {
   "cell_type": "code",
   "execution_count": null,
   "id": "4d6e5034",
   "metadata": {},
   "outputs": [],
   "source": [
    "a = input()\n",
    "b = input()\n",
    "c = input()\n",
    "print(a + b + c)"
   ]
  },
  {
   "cell_type": "code",
   "execution_count": null,
   "id": "119bea5d",
   "metadata": {},
   "outputs": [
    {
     "name": "stdout",
     "output_type": "stream",
     "text": [
      "-1.1111111111111112\n"
     ]
    }
   ],
   "source": [
    "celsius = float(input())\n",
    "farenheit = celsius * 9 / 5 + 32\n",
    "print(celsius)"
   ]
  }
 ],
 "metadata": {
  "kernelspec": {
   "display_name": "Python 3",
   "language": "python",
   "name": "python3"
  },
  "language_info": {
   "codemirror_mode": {
    "name": "ipython",
    "version": 3
   },
   "file_extension": ".py",
   "mimetype": "text/x-python",
   "name": "python",
   "nbconvert_exporter": "python",
   "pygments_lexer": "ipython3",
   "version": "3.9.4"
  }
 },
 "nbformat": 4,
 "nbformat_minor": 5
}
