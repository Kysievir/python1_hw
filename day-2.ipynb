{
 "cells": [
  {
   "cell_type": "code",
   "execution_count": 1,
   "id": "68d45990",
   "metadata": {},
   "outputs": [
    {
     "name": "stdout",
     "output_type": "stream",
     "text": [
      "hallo\n"
     ]
    }
   ],
   "source": [
    "print(\"hallo\")"
   ]
  },
  {
   "cell_type": "markdown",
   "id": "c2abf4d3",
   "metadata": {},
   "source": [
    "$int_{0}^{∞} x^2 dx$\n"
   ]
  },
  {
   "cell_type": "code",
   "execution_count": 3,
   "id": "7d7a28fe",
   "metadata": {},
   "outputs": [
    {
     "name": "stdout",
     "output_type": "stream",
     "text": [
      "True\n",
      "<class 'float'>\n"
     ]
    }
   ],
   "source": [
    "print(isinstance(-0, int))\n",
    "print(type(0.))"
   ]
  },
  {
   "cell_type": "code",
   "execution_count": null,
   "id": "0747b175",
   "metadata": {},
   "outputs": [],
   "source": [
    "print(isinstance(0, bool))\n",
    "print(isinstance(0, int))"
   ]
  },
  {
   "cell_type": "code",
   "execution_count": 6,
   "id": "166fdce3",
   "metadata": {},
   "outputs": [
    {
     "name": "stdout",
     "output_type": "stream",
     "text": [
      " alice bob \n"
     ]
    }
   ],
   "source": [
    "print(\"\"\" alice \\\n",
    "bob \"\"\")"
   ]
  },
  {
   "cell_type": "code",
   "execution_count": null,
   "id": "ae9c93bf",
   "metadata": {},
   "outputs": [
    {
     "ename": "SyntaxError",
     "evalue": "unexpected character after line continuation character (1674395059.py, line 2)",
     "output_type": "error",
     "traceback": [
      "\u001b[1;36m  Cell \u001b[1;32mIn[8], line 2\u001b[1;36m\u001b[0m\n\u001b[1;33m    if x == \\\u001b[0m\n\u001b[1;37m             ^\u001b[0m\n\u001b[1;31mSyntaxError\u001b[0m\u001b[1;31m:\u001b[0m unexpected character after line continuation character\n"
     ]
    }
   ],
   "source": [
    "x = 1\n",
    "if x == \\\n",
    "    2:\n",
    "    pass"
   ]
  }
 ],
 "metadata": {
  "kernelspec": {
   "display_name": "Python 3",
   "language": "python",
   "name": "python3"
  },
  "language_info": {
   "codemirror_mode": {
    "name": "ipython",
    "version": 3
   },
   "file_extension": ".py",
   "mimetype": "text/x-python",
   "name": "python",
   "nbconvert_exporter": "python",
   "pygments_lexer": "ipython3",
   "version": "3.9.4"
  }
 },
 "nbformat": 4,
 "nbformat_minor": 5
}
